{
  "cells": [
    {
      "cell_type": "markdown",
      "metadata": {
        "id": "view-in-github",
        "colab_type": "text"
      },
      "source": [
        "<a href=\"https://colab.research.google.com/github/josephnagel1/NagelJoseph_lab1_interest_functions/blob/master/lab_1_interest_functions.ipynb\" target=\"_parent\"><img src=\"https://colab.research.google.com/assets/colab-badge.svg\" alt=\"Open In Colab\"/></a>"
      ]
    },
    {
      "cell_type": "markdown",
      "metadata": {
        "id": "epRXIt4-ecwE"
      },
      "source": [
        "## Lab 1 - Compound Interest Functions\n",
        "\n",
        "Below you will find a table of important formulae related to compound interest.  \n",
        "\n",
        "<img src=\"https://www.dummies.com/wp-content/uploads/251689.image0.jpg\" alt=\"image0.jpg\" width=\"400\" height=\"319\">\n",
        "\n",
        "In this lab, you will create functions for each of these using (and documenting) the following workflow.\n",
        "\n",
        "1. Work out the correct answer for a few examples. *Hint* Search for e.g. \"worked out compound interest examples\" on the web.\n",
        "2. Write a `lambda` function and test this function on your test cases.\n",
        "3. Convert the `lambda` function to a `def` statement with an informative doc string that follows the [Google formating rules](https://google.github.io/styleguide/pyguide.html#383-functions-and-methods).\n",
        "4. Write an automated test function (using your previous examples) that will test your `def` statement function each time the code is executed."
      ]
    },
    {
      "cell_type": "markdown",
      "metadata": {
        "id": "4GeCxhFLecwK"
      },
      "source": [
        "#### Problem 1 -- Apply the process to create a simple interest functions."
      ]
    },
    {
      "cell_type": "markdown",
      "source": [
        "##### Simple Interest"
      ],
      "metadata": {
        "id": "GAG90cKYe4ED"
      }
    },
    {
      "cell_type": "code",
      "execution_count": 1,
      "metadata": {
        "id": "N2rO9QJWecwO",
        "outputId": "2ff89715-e6cf-4212-efda-bae7fa0a7645",
        "colab": {
          "base_uri": "https://localhost:8080/"
        }
      },
      "outputs": [
        {
          "output_type": "execute_result",
          "data": {
            "text/plain": [
              "45000.0"
            ]
          },
          "metadata": {},
          "execution_count": 1
        }
      ],
      "source": [
        "principal = 100000\n",
        "\n",
        "interest_rate = 0.03\n",
        "\n",
        "time_in_years = 15\n",
        "\n",
        "principal * interest_rate * time_in_years"
      ]
    },
    {
      "cell_type": "code",
      "source": [
        "principal = 50600\n",
        "\n",
        "interest_rate = 0.02\n",
        "\n",
        "time_in_years = 7\n",
        "\n",
        "principal * interest_rate * time_in_years"
      ],
      "metadata": {
        "id": "UV6lvRXVfens",
        "outputId": "5dcf99d8-1185-40ae-a1e7-01467dccb19b",
        "colab": {
          "base_uri": "https://localhost:8080/"
        }
      },
      "execution_count": 2,
      "outputs": [
        {
          "output_type": "execute_result",
          "data": {
            "text/plain": [
              "7084.0"
            ]
          },
          "metadata": {},
          "execution_count": 2
        }
      ]
    },
    {
      "cell_type": "markdown",
      "source": [
        "##### Compound Interest"
      ],
      "metadata": {
        "id": "2gO-x1KlfkzE"
      }
    },
    {
      "cell_type": "code",
      "source": [
        "principal = 100000\n",
        "\n",
        "rate = 0.03\n",
        "\n",
        "compoundings = 20\n",
        "\n",
        "years = 10\n",
        "\n",
        "principal * (1 + (rate / compoundings))**(compoundings * years)"
      ],
      "metadata": {
        "id": "dQ0_safOfnu0",
        "outputId": "cc56869e-97b2-43b8-a958-3c40f0bae31c",
        "colab": {
          "base_uri": "https://localhost:8080/"
        }
      },
      "execution_count": 4,
      "outputs": [
        {
          "output_type": "execute_result",
          "data": {
            "text/plain": [
              "134955.54268187925"
            ]
          },
          "metadata": {},
          "execution_count": 4
        }
      ]
    },
    {
      "cell_type": "code",
      "source": [
        "principal = 50600\n",
        "\n",
        "rate = 0.02\n",
        "\n",
        "compoundings = 14\n",
        "\n",
        "years = 7\n",
        "\n",
        "principal * (1 + (rate / compoundings))**(compoundings * years)"
      ],
      "metadata": {
        "id": "e7cHt7t4goqh",
        "outputId": "2e785487-a6fa-4015-db66-9c8f5461a759",
        "colab": {
          "base_uri": "https://localhost:8080/"
        }
      },
      "execution_count": 5,
      "outputs": [
        {
          "output_type": "execute_result",
          "data": {
            "text/plain": [
              "58198.0396645009"
            ]
          },
          "metadata": {},
          "execution_count": 5
        }
      ]
    },
    {
      "cell_type": "markdown",
      "source": [
        "##### Effective Rate"
      ],
      "metadata": {
        "id": "tvcGo0b9g6F8"
      }
    },
    {
      "cell_type": "code",
      "source": [
        "interest_rate = 0.03\n",
        "\n",
        "compoundings = 20\n",
        "\n",
        "(1 + (rate / compoundings)) ** compoundings - 1"
      ],
      "metadata": {
        "id": "IcmMOI19hAbh",
        "outputId": "ac82d4dd-f7e1-4acb-a00d-7f99f0a0ae58",
        "colab": {
          "base_uri": "https://localhost:8080/"
        }
      },
      "execution_count": 7,
      "outputs": [
        {
          "output_type": "execute_result",
          "data": {
            "text/plain": [
              "0.020191144860540522"
            ]
          },
          "metadata": {},
          "execution_count": 7
        }
      ]
    },
    {
      "cell_type": "code",
      "source": [
        "interest_rate = 0.02\n",
        "\n",
        "compoundings = 14\n",
        "\n",
        "(1 + (rate / compoundings)) ** compoundings - 1"
      ],
      "metadata": {
        "id": "M1wlZFodhbE6",
        "outputId": "1adf2036-5a23-4aad-c7b5-563bb47a8923",
        "colab": {
          "base_uri": "https://localhost:8080/"
        }
      },
      "execution_count": 8,
      "outputs": [
        {
          "output_type": "execute_result",
          "data": {
            "text/plain": [
              "0.02018677969123628"
            ]
          },
          "metadata": {},
          "execution_count": 8
        }
      ]
    },
    {
      "cell_type": "markdown",
      "source": [
        "##### Amortized Loan Payment"
      ],
      "metadata": {
        "id": "eeRfHQqqhkl6"
      }
    },
    {
      "cell_type": "code",
      "source": [
        "amount_borrowed = 100000\n",
        "\n",
        "interest_rate_per_period = 0.03\n",
        "\n",
        "number_of_payments = 5\n",
        "\n",
        "(amount_borrowed * interest_rate_per_period) / (1 - (1 + interest_rate_per_period) ** number_of_payments)"
      ],
      "metadata": {
        "id": "qDC8BO60h5b_",
        "outputId": "071661cf-968a-4183-c2b2-90b345a541c1",
        "colab": {
          "base_uri": "https://localhost:8080/"
        }
      },
      "execution_count": 9,
      "outputs": [
        {
          "output_type": "execute_result",
          "data": {
            "text/plain": [
              "-18835.457140057595"
            ]
          },
          "metadata": {},
          "execution_count": 9
        }
      ]
    },
    {
      "cell_type": "code",
      "source": [
        "amount_borrowed = 50600\n",
        "\n",
        "interest_rate_per_period = 0.02\n",
        "\n",
        "number_of_payments = 8\n",
        "\n",
        "(amount_borrowed * interest_rate_per_period) / (1 - (1 + interest_rate_per_period) ** number_of_payments)"
      ],
      "metadata": {
        "id": "AuSCPjbRiv_-",
        "outputId": "b47c374e-93dd-482d-b0d2-2d0ed159791a",
        "colab": {
          "base_uri": "https://localhost:8080/"
        }
      },
      "execution_count": 10,
      "outputs": [
        {
          "output_type": "execute_result",
          "data": {
            "text/plain": [
              "-5895.395836168386"
            ]
          },
          "metadata": {},
          "execution_count": 10
        }
      ]
    },
    {
      "cell_type": "markdown",
      "source": [
        "##### Remaining Balance"
      ],
      "metadata": {
        "id": "sbten1-Ci7T9"
      }
    },
    {
      "cell_type": "code",
      "source": [
        "regular_payment = 18835.48\n",
        "\n",
        "interest_rate_per_period = 0.03\n",
        "\n"
      ],
      "metadata": {
        "id": "H2rgoObpi-ne"
      },
      "execution_count": null,
      "outputs": []
    },
    {
      "cell_type": "markdown",
      "metadata": {
        "id": "RkDy3enjecwR"
      },
      "source": [
        "#### Problem 2 -- Apply the process to create a compound interest functions."
      ]
    },
    {
      "cell_type": "code",
      "execution_count": null,
      "metadata": {
        "id": "aHFPAXppecwR"
      },
      "outputs": [],
      "source": [
        "\"Your code here, insert more cells as needed\""
      ]
    },
    {
      "cell_type": "markdown",
      "metadata": {
        "id": "1IEfYxPDecwS"
      },
      "source": [
        "#### Problem 3 -- Apply the process to create a amortized loan payment function."
      ]
    },
    {
      "cell_type": "code",
      "execution_count": null,
      "metadata": {
        "id": "QkobU_H3ecwU"
      },
      "outputs": [],
      "source": [
        "\"Your code here, insert more cells as needed\""
      ]
    },
    {
      "cell_type": "markdown",
      "metadata": {
        "id": "tgdSr8nPecwU"
      },
      "source": [
        "#### Problem 4 -- Apply the process to create a remaining balance function"
      ]
    },
    {
      "cell_type": "code",
      "execution_count": null,
      "metadata": {
        "id": "QvVfG7xpecwV"
      },
      "outputs": [],
      "source": [
        "\"Your code here, insert more cells as needed\""
      ]
    }
  ],
  "metadata": {
    "kernelspec": {
      "display_name": "Python 3",
      "language": "python",
      "name": "python3"
    },
    "language_info": {
      "codemirror_mode": {
        "name": "ipython",
        "version": 3
      },
      "file_extension": ".py",
      "mimetype": "text/x-python",
      "name": "python",
      "nbconvert_exporter": "python",
      "pygments_lexer": "ipython3",
      "version": "3.7.2"
    },
    "colab": {
      "provenance": [],
      "include_colab_link": true
    }
  },
  "nbformat": 4,
  "nbformat_minor": 0
}