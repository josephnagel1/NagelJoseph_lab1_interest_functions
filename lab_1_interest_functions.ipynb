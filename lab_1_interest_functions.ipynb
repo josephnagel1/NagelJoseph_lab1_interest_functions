{
  "cells": [
    {
      "cell_type": "markdown",
      "metadata": {
        "id": "view-in-github",
        "colab_type": "text"
      },
      "source": [
        "<a href=\"https://colab.research.google.com/github/josephnagel1/NagelJoseph_lab1_interest_functions/blob/master/lab_1_interest_functions.ipynb\" target=\"_parent\"><img src=\"https://colab.research.google.com/assets/colab-badge.svg\" alt=\"Open In Colab\"/></a>"
      ]
    },
    {
      "cell_type": "markdown",
      "metadata": {
        "id": "epRXIt4-ecwE"
      },
      "source": [
        "## Lab 1 - Compound Interest Functions\n",
        "\n",
        "Below you will find a table of important formulae related to compound interest.  \n",
        "\n",
        "<img src=\"https://www.dummies.com/wp-content/uploads/251689.image0.jpg\" alt=\"image0.jpg\" width=\"400\" height=\"319\">\n",
        "\n",
        "In this lab, you will create functions for each of these using (and documenting) the following workflow.\n",
        "\n",
        "1. Work out the correct answer for a few examples. *Hint* Search for e.g. \"worked out compound interest examples\" on the web.\n",
        "2. Write a `lambda` function and test this function on your test cases.\n",
        "3. Convert the `lambda` function to a `def` statement with an informative doc string that follows the [Google formating rules](https://google.github.io/styleguide/pyguide.html#383-functions-and-methods).\n",
        "4. Write an automated test function (using your previous examples) that will test your `def` statement function each time the code is executed."
      ]
    },
    {
      "cell_type": "markdown",
      "metadata": {
        "id": "4GeCxhFLecwK"
      },
      "source": [
        "#### Problem 1 -- Apply the process to create a simple interest functions."
      ]
    },
    {
      "cell_type": "code",
      "execution_count": null,
      "metadata": {
        "colab": {
          "base_uri": "https://localhost:8080/"
        },
        "id": "N2rO9QJWecwO",
        "outputId": "2ff89715-e6cf-4212-efda-bae7fa0a7645"
      },
      "outputs": [
        {
          "output_type": "execute_result",
          "data": {
            "text/plain": [
              "45000.0"
            ]
          },
          "metadata": {},
          "execution_count": 1
        }
      ],
      "source": [
        "principal = 100000\n",
        "\n",
        "interest_rate = 0.03\n",
        "\n",
        "time_in_years = 15\n",
        "\n",
        "principal * interest_rate * time_in_years"
      ]
    },
    {
      "cell_type": "code",
      "source": [
        "principal = 50600\n",
        "\n",
        "interest_rate = 0.02\n",
        "\n",
        "time_in_years = 7\n",
        "\n",
        "principal * interest_rate * time_in_years"
      ],
      "metadata": {
        "colab": {
          "base_uri": "https://localhost:8080/"
        },
        "id": "UV6lvRXVfens",
        "outputId": "5dcf99d8-1185-40ae-a1e7-01467dccb19b"
      },
      "execution_count": null,
      "outputs": [
        {
          "output_type": "execute_result",
          "data": {
            "text/plain": [
              "7084.0"
            ]
          },
          "metadata": {},
          "execution_count": 2
        }
      ]
    },
    {
      "cell_type": "code",
      "execution_count": 12,
      "metadata": {
        "id": "aHFPAXppecwR"
      },
      "outputs": [],
      "source": [
        "simple_interest = lambda principal, interest_rate, time_in_years: principal * interest_rate * time_in_years"
      ]
    },
    {
      "cell_type": "code",
      "source": [
        "simple_interest(100000,0.03,15)"
      ],
      "metadata": {
        "id": "TfecaoX98nTd",
        "outputId": "7a125568-c8fb-4daf-c89c-0b7471eb6889",
        "colab": {
          "base_uri": "https://localhost:8080/"
        }
      },
      "execution_count": 13,
      "outputs": [
        {
          "output_type": "execute_result",
          "data": {
            "text/plain": [
              "45000.0"
            ]
          },
          "metadata": {},
          "execution_count": 13
        }
      ]
    },
    {
      "cell_type": "code",
      "source": [
        "simple_interest(50600,0.02,8)"
      ],
      "metadata": {
        "id": "IYpj8Bg486Av",
        "outputId": "3fc1cc69-a230-4b82-b2d4-3d2bdf6f2886",
        "colab": {
          "base_uri": "https://localhost:8080/"
        }
      },
      "execution_count": 14,
      "outputs": [
        {
          "output_type": "execute_result",
          "data": {
            "text/plain": [
              "8096.0"
            ]
          },
          "metadata": {},
          "execution_count": 14
        }
      ]
    },
    {
      "cell_type": "code",
      "source": [
        "\n",
        "def simp_int(p, i, t):\n",
        "    \"\"\" computes the simple interest\n",
        "    \n",
        "    Args:\n",
        "        p: principal\n",
        "        i: interest rate\n",
        "        t: time in years\n",
        "        \n",
        "    Returns:\n",
        "        The simple interest gained after some time on\n",
        "        some principal with some interest rate\n",
        "    \"\"\"\n",
        "\n",
        "    output = p * i * t\n",
        "    return output\n",
        "\n",
        "def test_simp_int():\n",
        "    assert simp_int(100000,0.03,15) == 45000\n",
        "    assert simp_int(50600,0.02,8) == 8096.0\n",
        "test_simp_int()\n"
      ],
      "metadata": {
        "id": "dJJNCkt5yaU4"
      },
      "execution_count": 16,
      "outputs": []
    },
    {
      "cell_type": "markdown",
      "metadata": {
        "id": "RkDy3enjecwR"
      },
      "source": [
        "#### Problem 2 -- Apply the process to create a compound interest functions."
      ]
    },
    {
      "cell_type": "code",
      "source": [
        "principal = 100000\n",
        "\n",
        "rate = 0.03\n",
        "\n",
        "compoundings = 20\n",
        "\n",
        "years = 10\n",
        "\n",
        "principal * (1 + (rate / compoundings))**(compoundings * years)"
      ],
      "metadata": {
        "colab": {
          "base_uri": "https://localhost:8080/"
        },
        "id": "dQ0_safOfnu0",
        "outputId": "cc56869e-97b2-43b8-a958-3c40f0bae31c"
      },
      "execution_count": null,
      "outputs": [
        {
          "output_type": "execute_result",
          "data": {
            "text/plain": [
              "134955.54268187925"
            ]
          },
          "metadata": {},
          "execution_count": 4
        }
      ]
    },
    {
      "cell_type": "code",
      "source": [
        "principal = 50600\n",
        "\n",
        "rate = 0.02\n",
        "\n",
        "compoundings = 14\n",
        "\n",
        "years = 7\n",
        "\n",
        "principal * (1 + (rate / compoundings))**(compoundings * years)"
      ],
      "metadata": {
        "colab": {
          "base_uri": "https://localhost:8080/"
        },
        "id": "e7cHt7t4goqh",
        "outputId": "2e785487-a6fa-4015-db66-9c8f5461a759"
      },
      "execution_count": null,
      "outputs": [
        {
          "output_type": "execute_result",
          "data": {
            "text/plain": [
              "58198.0396645009"
            ]
          },
          "metadata": {},
          "execution_count": 5
        }
      ]
    },
    {
      "cell_type": "code",
      "source": [
        "compound_interest = lambda principal, rate, compoundings, years: principal * (1 + (rate / compoundings))**(compoundings * years)"
      ],
      "metadata": {
        "id": "bDZw9zT28_vi"
      },
      "execution_count": null,
      "outputs": []
    },
    {
      "cell_type": "code",
      "source": [
        "compound_interest(100000,0.03,20,10)"
      ],
      "metadata": {
        "id": "D8uGKIrh9MYE",
        "outputId": "6adba248-f6cb-493d-b89a-0fe55b025be2",
        "colab": {
          "base_uri": "https://localhost:8080/"
        }
      },
      "execution_count": null,
      "outputs": [
        {
          "output_type": "execute_result",
          "data": {
            "text/plain": [
              "134955.54268187925"
            ]
          },
          "metadata": {},
          "execution_count": 14
        }
      ]
    },
    {
      "cell_type": "code",
      "source": [
        "compound_interest(50600,0.02,14,7)"
      ],
      "metadata": {
        "id": "rZwskBFj9Muk",
        "outputId": "4d5b813f-1383-4067-ea3d-cefcf8e9517b",
        "colab": {
          "base_uri": "https://localhost:8080/"
        }
      },
      "execution_count": null,
      "outputs": [
        {
          "output_type": "execute_result",
          "data": {
            "text/plain": [
              "58198.0396645009"
            ]
          },
          "metadata": {},
          "execution_count": 15
        }
      ]
    },
    {
      "cell_type": "code",
      "source": [
        "\n",
        "def comp_int(p, r, n, t):\n",
        "    \"\"\" computes the compound interest\n",
        "    \n",
        "    Args:\n",
        "        p: principal\n",
        "        r: interest rate\n",
        "        n: compoundings\n",
        "        t: time in years\n",
        "        \n",
        "    Returns:\n",
        "        The compound interest gained after some time on\n",
        "        some principal with some interest rate with some number of compoundings\n",
        "    \"\"\"\n",
        "    \n",
        "    output = p * (1 + (r / n)) ** (n * t)\n",
        "    return output\n",
        "\n",
        "def test_comp_int():\n",
        "    assert comp_int(100000,0.03,20,10) == 134955.54268187925\n",
        "    assert comp_int(50600,0.02,14,7) == 58198.0396645009\n",
        "test_comp_int()\n"
      ],
      "metadata": {
        "id": "VV5ntKMB0T9p"
      },
      "execution_count": 10,
      "outputs": []
    },
    {
      "cell_type": "markdown",
      "metadata": {
        "id": "1IEfYxPDecwS"
      },
      "source": [
        "#### Problem 3 -- Apply the process to create a amortized loan payment function."
      ]
    },
    {
      "cell_type": "code",
      "source": [
        "amount_borrowed = 100000\n",
        "\n",
        "interest_rate_per_period = 0.03\n",
        "\n",
        "number_of_payments = 5\n",
        "\n",
        "(amount_borrowed * interest_rate_per_period) / (1 - (1 + interest_rate_per_period) ** (-1 * number_of_payments))"
      ],
      "metadata": {
        "colab": {
          "base_uri": "https://localhost:8080/"
        },
        "id": "qDC8BO60h5b_",
        "outputId": "849ff9f1-e47d-46f4-f0c5-73ebb9f31977"
      },
      "execution_count": null,
      "outputs": [
        {
          "output_type": "execute_result",
          "data": {
            "text/plain": [
              "21835.457140057584"
            ]
          },
          "metadata": {},
          "execution_count": 35
        }
      ]
    },
    {
      "cell_type": "code",
      "source": [
        "amount_borrowed = 50600\n",
        "\n",
        "interest_rate_per_period = 0.02\n",
        "\n",
        "number_of_payments = 8\n",
        "\n",
        "(amount_borrowed * interest_rate_per_period) / (1 - (1 + interest_rate_per_period) ** (-1 * number_of_payments))"
      ],
      "metadata": {
        "colab": {
          "base_uri": "https://localhost:8080/"
        },
        "id": "AuSCPjbRiv_-",
        "outputId": "4fb5867d-e864-4bf8-9358-c9cd1caa654a"
      },
      "execution_count": null,
      "outputs": [
        {
          "output_type": "execute_result",
          "data": {
            "text/plain": [
              "6907.3958361683835"
            ]
          },
          "metadata": {},
          "execution_count": 34
        }
      ]
    },
    {
      "cell_type": "code",
      "source": [
        "amorized_loan_payment = lambda amount_borrowed, interest_rate_per_period, number_of_payments: (amount_borrowed * interest_rate_per_period) / (1 - (1 + interest_rate_per_period) ** (-1 * number_of_payments))"
      ],
      "metadata": {
        "id": "6ZGvs9YN-x6F"
      },
      "execution_count": null,
      "outputs": []
    },
    {
      "cell_type": "code",
      "source": [
        "amorized_loan_payment(100000,0.03,120)"
      ],
      "metadata": {
        "id": "EZ5EQbea_eDQ",
        "outputId": "9df49d93-5b66-447b-9139-adc5d074889f",
        "colab": {
          "base_uri": "https://localhost:8080/"
        }
      },
      "execution_count": null,
      "outputs": [
        {
          "output_type": "execute_result",
          "data": {
            "text/plain": [
              "3088.9917577296856"
            ]
          },
          "metadata": {},
          "execution_count": 41
        }
      ]
    },
    {
      "cell_type": "code",
      "source": [
        "amorized_loan_payment(50600,0.02,8)"
      ],
      "metadata": {
        "id": "Qny64Hq__kE4",
        "outputId": "cc7eab79-5ad8-4a06-81f2-00beb7608700",
        "colab": {
          "base_uri": "https://localhost:8080/"
        }
      },
      "execution_count": null,
      "outputs": [
        {
          "output_type": "execute_result",
          "data": {
            "text/plain": [
              "6907.3958361683835"
            ]
          },
          "metadata": {},
          "execution_count": 42
        }
      ]
    },
    {
      "cell_type": "code",
      "source": [
        "\n",
        "def amor_loan_pay(p, i, n):\n",
        "    \"\"\" computes the amorized loan payment\n",
        "    \n",
        "    Args:\n",
        "        p: amount borrowed\n",
        "        i: interest rate per period\n",
        "        n: number of payments\n",
        "        \n",
        "    Returns:\n",
        "        The amorized loan payment on some amount\n",
        "        borrowd with some interest rate per period\n",
        "        with some number of paymenys\n",
        "    \"\"\"\n",
        "    \n",
        "    output = (p * i) / (1 - ((1 + i) ** (-1 * n)))\n",
        "    return output\n",
        "\n",
        "def test_amor_loan_pay():\n",
        "    assert amor_loan_pay(100000,0.03,120) == 3088.9917577296856\n",
        "    assert amor_loan_pay(50600,0.02,8) == 6907.3958361683835\n",
        "test_amor_loan_pay()"
      ],
      "metadata": {
        "id": "mTnRhb5o1QSK"
      },
      "execution_count": 7,
      "outputs": []
    },
    {
      "cell_type": "markdown",
      "metadata": {
        "id": "tgdSr8nPecwU"
      },
      "source": [
        "#### Problem 4 -- Apply the process to create a remaining balance function"
      ]
    },
    {
      "cell_type": "code",
      "source": [
        "regular_payment = 15000\n",
        "\n",
        "interest_rate_per_period = 0.03\n",
        "\n",
        "number_of_payments = 3\n",
        "\n",
        "number_of_payments_already_made = 2\n",
        "\n",
        "regular_payment * ((1 - (1 + interest_rate_per_period) ** (-1 * (number_of_payments - number_of_payments_already_made))) / interest_rate_per_period)"
      ],
      "metadata": {
        "colab": {
          "base_uri": "https://localhost:8080/"
        },
        "id": "H2rgoObpi-ne",
        "outputId": "2688e13f-9c4f-41eb-9b87-81e49e102a65"
      },
      "execution_count": null,
      "outputs": [
        {
          "output_type": "execute_result",
          "data": {
            "text/plain": [
              "14563.106796116499"
            ]
          },
          "metadata": {},
          "execution_count": 4
        }
      ]
    },
    {
      "cell_type": "code",
      "source": [
        "regular_payment = 12500\n",
        "\n",
        "interest_rate_per_period = 0.02\n",
        "\n",
        "number_of_payments = 6\n",
        "\n",
        "number_of_payments_already_made = 3\n",
        "\n",
        "regular_payment * ((1 - (1 + interest_rate_per_period) ** (-1 * (number_of_payments - number_of_payments_already_made))) / interest_rate_per_period)"
      ],
      "metadata": {
        "id": "rDdOZgNY8DtC",
        "outputId": "fd0929b0-3888-4a8f-d89b-f1cffc9402a1",
        "colab": {
          "base_uri": "https://localhost:8080/"
        }
      },
      "execution_count": null,
      "outputs": [
        {
          "output_type": "execute_result",
          "data": {
            "text/plain": [
              "36048.54090809718"
            ]
          },
          "metadata": {},
          "execution_count": 5
        }
      ]
    },
    {
      "cell_type": "code",
      "source": [
        "remaining_balance = lambda regular_payment, interest_rate_per_period, number_of_payments, number_of_payments_already_made: regular_payment * ((1 - (1 + interest_rate_per_period) ** (-1 * (number_of_payments - number_of_payments_already_made))) / interest_rate_per_period)"
      ],
      "metadata": {
        "id": "qKf6-cXwCN-A"
      },
      "execution_count": null,
      "outputs": []
    },
    {
      "cell_type": "code",
      "source": [
        "remaining_balance(12500,0.02,6,3)"
      ],
      "metadata": {
        "id": "xDLTAIBRChRU",
        "outputId": "8213b182-9246-40c0-c837-b93f53e0acea",
        "colab": {
          "base_uri": "https://localhost:8080/"
        }
      },
      "execution_count": null,
      "outputs": [
        {
          "output_type": "execute_result",
          "data": {
            "text/plain": [
              "36048.54090809718"
            ]
          },
          "metadata": {},
          "execution_count": 48
        }
      ]
    },
    {
      "cell_type": "code",
      "source": [
        "remaining_balance(15000,0.03,3,2)"
      ],
      "metadata": {
        "id": "vwyAfiF5Cg70",
        "outputId": "2c0aed5e-f20e-47ef-dc0a-0cfc6d42656e",
        "colab": {
          "base_uri": "https://localhost:8080/"
        }
      },
      "execution_count": null,
      "outputs": [
        {
          "output_type": "execute_result",
          "data": {
            "text/plain": [
              "14563.106796116499"
            ]
          },
          "metadata": {},
          "execution_count": 47
        }
      ]
    },
    {
      "cell_type": "code",
      "source": [
        "\n",
        "def remain_bal(r, i, n, x):\n",
        "    \"\"\" computes the remaining balance\n",
        "    \n",
        "    Args:\n",
        "        r: regular payment\n",
        "        i: interest rate per period\n",
        "        n: number of payments\n",
        "        x: number of payments already made\n",
        "        \n",
        "    Returns:\n",
        "        The remaining balance with some regular payment with\n",
        "        some interest rate per period with some number of payments\n",
        "        after some number of payments\n",
        "    \"\"\"\n",
        "    \n",
        "    output = r * ((1 - (1 + i) ** (-1 * (n - x))) / i)\n",
        "    return output\n",
        "\n",
        "def test_remain_bal():\n",
        "    assert remain_bal(12500,0.02,6,3) == 36048.54090809718\n",
        "    assert remain_bal(15000,0.03,3,2) == 14563.106796116499\n",
        "test_remain_bal()"
      ],
      "metadata": {
        "id": "o1HglOpo2EEH"
      },
      "execution_count": 18,
      "outputs": []
    }
  ],
  "metadata": {
    "kernelspec": {
      "display_name": "Python 3",
      "language": "python",
      "name": "python3"
    },
    "language_info": {
      "codemirror_mode": {
        "name": "ipython",
        "version": 3
      },
      "file_extension": ".py",
      "mimetype": "text/x-python",
      "name": "python",
      "nbconvert_exporter": "python",
      "pygments_lexer": "ipython3",
      "version": "3.7.2"
    },
    "colab": {
      "provenance": [],
      "include_colab_link": true
    }
  },
  "nbformat": 4,
  "nbformat_minor": 0
}